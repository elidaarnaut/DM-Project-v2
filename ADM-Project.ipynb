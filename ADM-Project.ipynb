{
 "cells": [
  {
   "cell_type": "markdown",
   "metadata": {},
   "source": [
    "Advanced Data Mining Project\n",
    "Dataset Source: https://www.kaggle.com/datasets/saurabhshahane/road-traffic-accidents"
   ]
  },
  {
   "cell_type": "code",
   "execution_count": 253,
   "metadata": {},
   "outputs": [],
   "source": [
    "import pandas as pd\n",
    "import numpy as np\n",
    "import matplotlib.pyplot as plt\n",
    "import seaborn as sns"
   ]
  },
  {
   "cell_type": "markdown",
   "metadata": {},
   "source": [
    "The first step is to load the dataset"
   ]
  },
  {
   "cell_type": "code",
   "execution_count": 254,
   "metadata": {},
   "outputs": [],
   "source": [
    "df = pd.read_csv(r'RTA Dataset.csv')"
   ]
  },
  {
   "cell_type": "markdown",
   "metadata": {},
   "source": [
    "Before preprocessing we need to understand the data"
   ]
  },
  {
   "cell_type": "code",
   "execution_count": 255,
   "metadata": {},
   "outputs": [
    {
     "name": "stdout",
     "output_type": "stream",
     "text": [
      "<class 'pandas.core.frame.DataFrame'>\n",
      "RangeIndex: 12316 entries, 0 to 12315\n",
      "Data columns (total 32 columns):\n",
      " #   Column                       Non-Null Count  Dtype \n",
      "---  ------                       --------------  ----- \n",
      " 0   Time                         12316 non-null  object\n",
      " 1   Day_of_week                  12316 non-null  object\n",
      " 2   Age_band_of_driver           12316 non-null  object\n",
      " 3   Sex_of_driver                12316 non-null  object\n",
      " 4   Educational_level            11575 non-null  object\n",
      " 5   Vehicle_driver_relation      11737 non-null  object\n",
      " 6   Driving_experience           11487 non-null  object\n",
      " 7   Type_of_vehicle              11366 non-null  object\n",
      " 8   Owner_of_vehicle             11834 non-null  object\n",
      " 9   Service_year_of_vehicle      8388 non-null   object\n",
      " 10  Defect_of_vehicle            7889 non-null   object\n",
      " 11  Area_accident_occured        12077 non-null  object\n",
      " 12  Lanes_or_Medians             11931 non-null  object\n",
      " 13  Road_allignment              12174 non-null  object\n",
      " 14  Types_of_Junction            11429 non-null  object\n",
      " 15  Road_surface_type            12144 non-null  object\n",
      " 16  Road_surface_conditions      12316 non-null  object\n",
      " 17  Light_conditions             12316 non-null  object\n",
      " 18  Weather_conditions           12316 non-null  object\n",
      " 19  Type_of_collision            12161 non-null  object\n",
      " 20  Number_of_vehicles_involved  12316 non-null  int64 \n",
      " 21  Number_of_casualties         12316 non-null  int64 \n",
      " 22  Vehicle_movement             12008 non-null  object\n",
      " 23  Casualty_class               12316 non-null  object\n",
      " 24  Sex_of_casualty              12316 non-null  object\n",
      " 25  Age_band_of_casualty         12316 non-null  object\n",
      " 26  Casualty_severity            12316 non-null  object\n",
      " 27  Work_of_casuality            9118 non-null   object\n",
      " 28  Fitness_of_casuality         9681 non-null   object\n",
      " 29  Pedestrian_movement          12316 non-null  object\n",
      " 30  Cause_of_accident            12316 non-null  object\n",
      " 31  Accident_severity            12316 non-null  object\n",
      "dtypes: int64(2), object(30)\n",
      "memory usage: 3.0+ MB\n"
     ]
    }
   ],
   "source": [
    "df.info()"
   ]
  },
  {
   "cell_type": "code",
   "execution_count": 256,
   "metadata": {},
   "outputs": [
    {
     "data": {
      "text/plain": [
       "array(['Slight Injury', 'Serious Injury', 'Fatal injury'], dtype=object)"
      ]
     },
     "execution_count": 256,
     "metadata": {},
     "output_type": "execute_result"
    }
   ],
   "source": [
    "df['Accident_severity'].unique()"
   ]
  },
  {
   "cell_type": "code",
   "execution_count": 257,
   "metadata": {},
   "outputs": [
    {
     "data": {
      "text/html": [
       "<div>\n",
       "<style scoped>\n",
       "    .dataframe tbody tr th:only-of-type {\n",
       "        vertical-align: middle;\n",
       "    }\n",
       "\n",
       "    .dataframe tbody tr th {\n",
       "        vertical-align: top;\n",
       "    }\n",
       "\n",
       "    .dataframe thead th {\n",
       "        text-align: right;\n",
       "    }\n",
       "</style>\n",
       "<table border=\"1\" class=\"dataframe\">\n",
       "  <thead>\n",
       "    <tr style=\"text-align: right;\">\n",
       "      <th></th>\n",
       "      <th>Time</th>\n",
       "      <th>Day_of_week</th>\n",
       "      <th>Age_band_of_driver</th>\n",
       "      <th>Sex_of_driver</th>\n",
       "      <th>Educational_level</th>\n",
       "      <th>Vehicle_driver_relation</th>\n",
       "      <th>Driving_experience</th>\n",
       "      <th>Type_of_vehicle</th>\n",
       "      <th>Owner_of_vehicle</th>\n",
       "      <th>Service_year_of_vehicle</th>\n",
       "      <th>...</th>\n",
       "      <th>Vehicle_movement</th>\n",
       "      <th>Casualty_class</th>\n",
       "      <th>Sex_of_casualty</th>\n",
       "      <th>Age_band_of_casualty</th>\n",
       "      <th>Casualty_severity</th>\n",
       "      <th>Work_of_casuality</th>\n",
       "      <th>Fitness_of_casuality</th>\n",
       "      <th>Pedestrian_movement</th>\n",
       "      <th>Cause_of_accident</th>\n",
       "      <th>Accident_severity</th>\n",
       "    </tr>\n",
       "  </thead>\n",
       "  <tbody>\n",
       "    <tr>\n",
       "      <th>0</th>\n",
       "      <td>17:02:00</td>\n",
       "      <td>Monday</td>\n",
       "      <td>18-30</td>\n",
       "      <td>Male</td>\n",
       "      <td>Above high school</td>\n",
       "      <td>Employee</td>\n",
       "      <td>1-2yr</td>\n",
       "      <td>Automobile</td>\n",
       "      <td>Owner</td>\n",
       "      <td>Above 10yr</td>\n",
       "      <td>...</td>\n",
       "      <td>Going straight</td>\n",
       "      <td>na</td>\n",
       "      <td>na</td>\n",
       "      <td>na</td>\n",
       "      <td>na</td>\n",
       "      <td>NaN</td>\n",
       "      <td>NaN</td>\n",
       "      <td>Not a Pedestrian</td>\n",
       "      <td>Moving Backward</td>\n",
       "      <td>Slight Injury</td>\n",
       "    </tr>\n",
       "    <tr>\n",
       "      <th>1</th>\n",
       "      <td>17:02:00</td>\n",
       "      <td>Monday</td>\n",
       "      <td>31-50</td>\n",
       "      <td>Male</td>\n",
       "      <td>Junior high school</td>\n",
       "      <td>Employee</td>\n",
       "      <td>Above 10yr</td>\n",
       "      <td>Public (&gt; 45 seats)</td>\n",
       "      <td>Owner</td>\n",
       "      <td>5-10yrs</td>\n",
       "      <td>...</td>\n",
       "      <td>Going straight</td>\n",
       "      <td>na</td>\n",
       "      <td>na</td>\n",
       "      <td>na</td>\n",
       "      <td>na</td>\n",
       "      <td>NaN</td>\n",
       "      <td>NaN</td>\n",
       "      <td>Not a Pedestrian</td>\n",
       "      <td>Overtaking</td>\n",
       "      <td>Slight Injury</td>\n",
       "    </tr>\n",
       "    <tr>\n",
       "      <th>2</th>\n",
       "      <td>17:02:00</td>\n",
       "      <td>Monday</td>\n",
       "      <td>18-30</td>\n",
       "      <td>Male</td>\n",
       "      <td>Junior high school</td>\n",
       "      <td>Employee</td>\n",
       "      <td>1-2yr</td>\n",
       "      <td>Lorry (41?100Q)</td>\n",
       "      <td>Owner</td>\n",
       "      <td>NaN</td>\n",
       "      <td>...</td>\n",
       "      <td>Going straight</td>\n",
       "      <td>Driver or rider</td>\n",
       "      <td>Male</td>\n",
       "      <td>31-50</td>\n",
       "      <td>3</td>\n",
       "      <td>Driver</td>\n",
       "      <td>NaN</td>\n",
       "      <td>Not a Pedestrian</td>\n",
       "      <td>Changing lane to the left</td>\n",
       "      <td>Serious Injury</td>\n",
       "    </tr>\n",
       "    <tr>\n",
       "      <th>3</th>\n",
       "      <td>1:06:00</td>\n",
       "      <td>Sunday</td>\n",
       "      <td>18-30</td>\n",
       "      <td>Male</td>\n",
       "      <td>Junior high school</td>\n",
       "      <td>Employee</td>\n",
       "      <td>5-10yr</td>\n",
       "      <td>Public (&gt; 45 seats)</td>\n",
       "      <td>Governmental</td>\n",
       "      <td>NaN</td>\n",
       "      <td>...</td>\n",
       "      <td>Going straight</td>\n",
       "      <td>Pedestrian</td>\n",
       "      <td>Female</td>\n",
       "      <td>18-30</td>\n",
       "      <td>3</td>\n",
       "      <td>Driver</td>\n",
       "      <td>Normal</td>\n",
       "      <td>Not a Pedestrian</td>\n",
       "      <td>Changing lane to the right</td>\n",
       "      <td>Slight Injury</td>\n",
       "    </tr>\n",
       "    <tr>\n",
       "      <th>4</th>\n",
       "      <td>1:06:00</td>\n",
       "      <td>Sunday</td>\n",
       "      <td>18-30</td>\n",
       "      <td>Male</td>\n",
       "      <td>Junior high school</td>\n",
       "      <td>Employee</td>\n",
       "      <td>2-5yr</td>\n",
       "      <td>NaN</td>\n",
       "      <td>Owner</td>\n",
       "      <td>5-10yrs</td>\n",
       "      <td>...</td>\n",
       "      <td>Going straight</td>\n",
       "      <td>na</td>\n",
       "      <td>na</td>\n",
       "      <td>na</td>\n",
       "      <td>na</td>\n",
       "      <td>NaN</td>\n",
       "      <td>NaN</td>\n",
       "      <td>Not a Pedestrian</td>\n",
       "      <td>Overtaking</td>\n",
       "      <td>Slight Injury</td>\n",
       "    </tr>\n",
       "  </tbody>\n",
       "</table>\n",
       "<p>5 rows × 32 columns</p>\n",
       "</div>"
      ],
      "text/plain": [
       "       Time Day_of_week Age_band_of_driver Sex_of_driver   Educational_level  \\\n",
       "0  17:02:00      Monday              18-30          Male   Above high school   \n",
       "1  17:02:00      Monday              31-50          Male  Junior high school   \n",
       "2  17:02:00      Monday              18-30          Male  Junior high school   \n",
       "3   1:06:00      Sunday              18-30          Male  Junior high school   \n",
       "4   1:06:00      Sunday              18-30          Male  Junior high school   \n",
       "\n",
       "  Vehicle_driver_relation Driving_experience      Type_of_vehicle  \\\n",
       "0                Employee              1-2yr           Automobile   \n",
       "1                Employee         Above 10yr  Public (> 45 seats)   \n",
       "2                Employee              1-2yr      Lorry (41?100Q)   \n",
       "3                Employee             5-10yr  Public (> 45 seats)   \n",
       "4                Employee              2-5yr                  NaN   \n",
       "\n",
       "  Owner_of_vehicle Service_year_of_vehicle  ... Vehicle_movement  \\\n",
       "0            Owner              Above 10yr  ...   Going straight   \n",
       "1            Owner                 5-10yrs  ...   Going straight   \n",
       "2            Owner                     NaN  ...   Going straight   \n",
       "3     Governmental                     NaN  ...   Going straight   \n",
       "4            Owner                 5-10yrs  ...   Going straight   \n",
       "\n",
       "    Casualty_class Sex_of_casualty Age_band_of_casualty Casualty_severity  \\\n",
       "0               na              na                   na                na   \n",
       "1               na              na                   na                na   \n",
       "2  Driver or rider            Male                31-50                 3   \n",
       "3       Pedestrian          Female                18-30                 3   \n",
       "4               na              na                   na                na   \n",
       "\n",
       "  Work_of_casuality Fitness_of_casuality Pedestrian_movement  \\\n",
       "0               NaN                  NaN    Not a Pedestrian   \n",
       "1               NaN                  NaN    Not a Pedestrian   \n",
       "2            Driver                  NaN    Not a Pedestrian   \n",
       "3            Driver               Normal    Not a Pedestrian   \n",
       "4               NaN                  NaN    Not a Pedestrian   \n",
       "\n",
       "            Cause_of_accident Accident_severity  \n",
       "0             Moving Backward     Slight Injury  \n",
       "1                  Overtaking     Slight Injury  \n",
       "2   Changing lane to the left    Serious Injury  \n",
       "3  Changing lane to the right     Slight Injury  \n",
       "4                  Overtaking     Slight Injury  \n",
       "\n",
       "[5 rows x 32 columns]"
      ]
     },
     "execution_count": 257,
     "metadata": {},
     "output_type": "execute_result"
    }
   ],
   "source": [
    "df.head()"
   ]
  },
  {
   "cell_type": "code",
   "execution_count": 258,
   "metadata": {},
   "outputs": [
    {
     "data": {
      "text/html": [
       "<div>\n",
       "<style scoped>\n",
       "    .dataframe tbody tr th:only-of-type {\n",
       "        vertical-align: middle;\n",
       "    }\n",
       "\n",
       "    .dataframe tbody tr th {\n",
       "        vertical-align: top;\n",
       "    }\n",
       "\n",
       "    .dataframe thead th {\n",
       "        text-align: right;\n",
       "    }\n",
       "</style>\n",
       "<table border=\"1\" class=\"dataframe\">\n",
       "  <thead>\n",
       "    <tr style=\"text-align: right;\">\n",
       "      <th></th>\n",
       "      <th>Number_of_vehicles_involved</th>\n",
       "      <th>Number_of_casualties</th>\n",
       "    </tr>\n",
       "  </thead>\n",
       "  <tbody>\n",
       "    <tr>\n",
       "      <th>count</th>\n",
       "      <td>12316.000000</td>\n",
       "      <td>12316.000000</td>\n",
       "    </tr>\n",
       "    <tr>\n",
       "      <th>mean</th>\n",
       "      <td>2.040679</td>\n",
       "      <td>1.548149</td>\n",
       "    </tr>\n",
       "    <tr>\n",
       "      <th>std</th>\n",
       "      <td>0.688790</td>\n",
       "      <td>1.007179</td>\n",
       "    </tr>\n",
       "    <tr>\n",
       "      <th>min</th>\n",
       "      <td>1.000000</td>\n",
       "      <td>1.000000</td>\n",
       "    </tr>\n",
       "    <tr>\n",
       "      <th>25%</th>\n",
       "      <td>2.000000</td>\n",
       "      <td>1.000000</td>\n",
       "    </tr>\n",
       "    <tr>\n",
       "      <th>50%</th>\n",
       "      <td>2.000000</td>\n",
       "      <td>1.000000</td>\n",
       "    </tr>\n",
       "    <tr>\n",
       "      <th>75%</th>\n",
       "      <td>2.000000</td>\n",
       "      <td>2.000000</td>\n",
       "    </tr>\n",
       "    <tr>\n",
       "      <th>max</th>\n",
       "      <td>7.000000</td>\n",
       "      <td>8.000000</td>\n",
       "    </tr>\n",
       "  </tbody>\n",
       "</table>\n",
       "</div>"
      ],
      "text/plain": [
       "       Number_of_vehicles_involved  Number_of_casualties\n",
       "count                 12316.000000          12316.000000\n",
       "mean                      2.040679              1.548149\n",
       "std                       0.688790              1.007179\n",
       "min                       1.000000              1.000000\n",
       "25%                       2.000000              1.000000\n",
       "50%                       2.000000              1.000000\n",
       "75%                       2.000000              2.000000\n",
       "max                       7.000000              8.000000"
      ]
     },
     "execution_count": 258,
     "metadata": {},
     "output_type": "execute_result"
    }
   ],
   "source": [
    "df.describe()"
   ]
  },
  {
   "cell_type": "code",
   "execution_count": 259,
   "metadata": {},
   "outputs": [
    {
     "name": "stdout",
     "output_type": "stream",
     "text": [
      "Time: ['17:02:00' '1:06:00' '14:15:00' ... '7:24:00' '19:18:00' '2:47:00']\n",
      "\n",
      "Day_of_week: ['Monday' 'Sunday' 'Friday' 'Wednesday' 'Saturday' 'Thursday' 'Tuesday']\n",
      "\n",
      "Age_band_of_driver: ['18-30' '31-50' 'Under 18' 'Over 51' 'Unknown']\n",
      "\n",
      "Sex_of_driver: ['Male' 'Female' 'Unknown']\n",
      "\n",
      "Educational_level: ['Above high school' 'Junior high school' nan 'Elementary school'\n",
      " 'High school' 'Unknown' 'Illiterate' 'Writing & reading']\n",
      "\n",
      "Vehicle_driver_relation: ['Employee' 'Unknown' 'Owner' nan 'Other']\n",
      "\n",
      "Driving_experience: ['1-2yr' 'Above 10yr' '5-10yr' '2-5yr' nan 'No Licence' 'Below 1yr'\n",
      " 'unknown']\n",
      "\n",
      "Type_of_vehicle: ['Automobile' 'Public (> 45 seats)' 'Lorry (41?100Q)' nan\n",
      " 'Public (13?45 seats)' 'Lorry (11?40Q)' 'Long lorry' 'Public (12 seats)'\n",
      " 'Taxi' 'Pick up upto 10Q' 'Stationwagen' 'Ridden horse' 'Other' 'Bajaj'\n",
      " 'Turbo' 'Motorcycle' 'Special vehicle' 'Bicycle']\n",
      "\n",
      "Owner_of_vehicle: ['Owner' 'Governmental' nan 'Organization' 'Other']\n",
      "\n",
      "Service_year_of_vehicle: ['Above 10yr' '5-10yrs' nan '1-2yr' '2-5yrs' 'Unknown' 'Below 1yr']\n",
      "\n",
      "Defect_of_vehicle: ['No defect' nan '7' '5']\n",
      "\n",
      "Area_accident_occured: ['Residential areas' 'Office areas' '  Recreational areas'\n",
      " ' Industrial areas' nan 'Other' ' Church areas' '  Market areas'\n",
      " 'Unknown' 'Rural village areas' ' Outside rural areas' ' Hospital areas'\n",
      " 'School areas' 'Rural village areasOffice areas' 'Recreational areas']\n",
      "\n",
      "Lanes_or_Medians: [nan 'Undivided Two way' 'other' 'Double carriageway (median)' 'One way'\n",
      " 'Two-way (divided with solid lines road marking)'\n",
      " 'Two-way (divided with broken lines road marking)' 'Unknown']\n",
      "\n",
      "Road_allignment: ['Tangent road with flat terrain' nan\n",
      " 'Tangent road with mild grade and flat terrain' 'Escarpments'\n",
      " 'Tangent road with rolling terrain' 'Gentle horizontal curve'\n",
      " 'Tangent road with mountainous terrain and'\n",
      " 'Steep grade downward with mountainous terrain' 'Sharp reverse curve'\n",
      " 'Steep grade upward with mountainous terrain']\n",
      "\n",
      "Types_of_Junction: ['No junction' 'Y Shape' 'Crossing' 'O Shape' 'Other' 'Unknown' 'T Shape'\n",
      " 'X Shape' nan]\n",
      "\n",
      "Road_surface_type: ['Asphalt roads' 'Earth roads' nan 'Asphalt roads with some distress'\n",
      " 'Gravel roads' 'Other']\n",
      "\n",
      "Road_surface_conditions: ['Dry' 'Wet or damp' 'Snow' 'Flood over 3cm. deep']\n",
      "\n",
      "Light_conditions: ['Daylight' 'Darkness - lights lit' 'Darkness - no lighting'\n",
      " 'Darkness - lights unlit']\n",
      "\n",
      "Weather_conditions: ['Normal' 'Raining' 'Raining and Windy' 'Cloudy' 'Other' 'Windy' 'Snow'\n",
      " 'Unknown' 'Fog or mist']\n",
      "\n",
      "Type_of_collision: ['Collision with roadside-parked vehicles'\n",
      " 'Vehicle with vehicle collision' 'Collision with roadside objects'\n",
      " 'Collision with animals' 'Other' 'Rollover' 'Fall from vehicles'\n",
      " 'Collision with pedestrians' 'With Train' 'Unknown' nan]\n",
      "\n",
      "Number_of_vehicles_involved: [2 1 3 6 4 7]\n",
      "\n",
      "Number_of_casualties: [2 1 3 4 6 5 8 7]\n",
      "\n",
      "Vehicle_movement: ['Going straight' 'U-Turn' 'Moving Backward' 'Turnover' 'Waiting to go'\n",
      " 'Getting off' 'Reversing' 'Unknown' 'Parked' 'Stopping' 'Overtaking'\n",
      " 'Other' 'Entering a junction' nan]\n",
      "\n",
      "Casualty_class: ['na' 'Driver or rider' 'Pedestrian' 'Passenger']\n",
      "\n",
      "Sex_of_casualty: ['na' 'Male' 'Female']\n",
      "\n",
      "Age_band_of_casualty: ['na' '31-50' '18-30' 'Under 18' 'Over 51' '5']\n",
      "\n",
      "Casualty_severity: ['na' '3' '2' '1']\n",
      "\n",
      "Work_of_casuality: [nan 'Driver' 'Other' 'Unemployed' 'Employee' 'Self-employed' 'Student'\n",
      " 'Unknown']\n",
      "\n",
      "Fitness_of_casuality: [nan 'Normal' 'Deaf' 'Other' 'Blind' 'NormalNormal']\n",
      "\n",
      "Pedestrian_movement: ['Not a Pedestrian' \"Crossing from driver's nearside\"\n",
      " 'Crossing from nearside - masked by parked or statioNot a Pedestrianry vehicle'\n",
      " 'Unknown or other'\n",
      " 'Crossing from offside - masked by  parked or statioNot a Pedestrianry vehicle'\n",
      " 'In carriageway, statioNot a Pedestrianry - not crossing  (standing or playing)'\n",
      " 'Walking along in carriageway, back to traffic'\n",
      " 'Walking along in carriageway, facing traffic'\n",
      " 'In carriageway, statioNot a Pedestrianry - not crossing  (standing or playing) - masked by parked or statioNot a Pedestrianry vehicle']\n",
      "\n",
      "Cause_of_accident: ['Moving Backward' 'Overtaking' 'Changing lane to the left'\n",
      " 'Changing lane to the right' 'Overloading' 'Other'\n",
      " 'No priority to vehicle' 'No priority to pedestrian' 'No distancing'\n",
      " 'Getting off the vehicle improperly' 'Improper parking' 'Overspeed'\n",
      " 'Driving carelessly' 'Driving at high speed' 'Driving to the left'\n",
      " 'Unknown' 'Overturning' 'Turnover' 'Driving under the influence of drugs'\n",
      " 'Drunk driving']\n",
      "\n",
      "Accident_severity: ['Slight Injury' 'Serious Injury' 'Fatal injury']\n",
      "\n"
     ]
    }
   ],
   "source": [
    "# To display the unique values for each feature\n",
    "def print_unique_values(dataframe):\n",
    "    for column in dataframe.columns:\n",
    "        unique_vals = dataframe[column].unique()\n",
    "        print(f\"{column}: {unique_vals}\")\n",
    "        print()\n",
    "\n",
    "print_unique_values(df)"
   ]
  },
  {
   "cell_type": "code",
   "execution_count": 260,
   "metadata": {},
   "outputs": [
    {
     "data": {
      "text/plain": [
       "(12316, 32)"
      ]
     },
     "execution_count": 260,
     "metadata": {},
     "output_type": "execute_result"
    }
   ],
   "source": [
    "df.shape"
   ]
  },
  {
   "cell_type": "markdown",
   "metadata": {},
   "source": [
    "Preprocessing\n",
    "Find out how many missing values there are and what is the percentage of missing values"
   ]
  },
  {
   "cell_type": "code",
   "execution_count": 261,
   "metadata": {},
   "outputs": [],
   "source": [
    "# Replacing values such as unknown/Unknown with NaN, marking them as missing values\n",
    "df.replace(['unknown', 'Unknown'], np.nan, inplace=True)"
   ]
  },
  {
   "cell_type": "code",
   "execution_count": 262,
   "metadata": {},
   "outputs": [],
   "source": [
    "# Missing values count\n",
    "missing_values_count = df.isnull().sum()\n",
    "# Missing values percentage\n",
    "missing_values_percentage = (df.isnull().sum() / len(df)) * 100"
   ]
  },
  {
   "cell_type": "code",
   "execution_count": 263,
   "metadata": {},
   "outputs": [
    {
     "name": "stdout",
     "output_type": "stream",
     "text": [
      "                        Feature  Missing Values  Percentage\n",
      "0                          Time               0    0.000000\n",
      "1                   Day_of_week               0    0.000000\n",
      "2            Age_band_of_driver            1548   12.569016\n",
      "3                 Sex_of_driver             178    1.445274\n",
      "4             Educational_level             841    6.828516\n",
      "5       Vehicle_driver_relation             593    4.814875\n",
      "6            Driving_experience             862    6.999026\n",
      "7               Type_of_vehicle             950    7.713543\n",
      "8              Owner_of_vehicle             482    3.913608\n",
      "9       Service_year_of_vehicle            6811   55.302046\n",
      "10            Defect_of_vehicle            4427   35.945112\n",
      "11        Area_accident_occured             261    2.119195\n",
      "12             Lanes_or_Medians             442    3.588828\n",
      "13              Road_allignment             142    1.152972\n",
      "14            Types_of_Junction            1078    8.752842\n",
      "15            Road_surface_type             172    1.396557\n",
      "16      Road_surface_conditions               0    0.000000\n",
      "17             Light_conditions               0    0.000000\n",
      "18           Weather_conditions             292    2.370900\n",
      "19            Type_of_collision             169    1.372199\n",
      "20  Number_of_vehicles_involved               0    0.000000\n",
      "21         Number_of_casualties               0    0.000000\n",
      "22             Vehicle_movement             396    3.215330\n",
      "23               Casualty_class               0    0.000000\n",
      "24              Sex_of_casualty               0    0.000000\n",
      "25         Age_band_of_casualty               0    0.000000\n",
      "26            Casualty_severity               0    0.000000\n",
      "27            Work_of_casuality            3217   26.120494\n",
      "28         Fitness_of_casuality            2635   21.394933\n",
      "29          Pedestrian_movement               0    0.000000\n",
      "30            Cause_of_accident              25    0.202988\n",
      "31            Accident_severity               0    0.000000\n"
     ]
    }
   ],
   "source": [
    "missing_values_df = pd.DataFrame({\n",
    "    'Feature': missing_values_count.index,\n",
    "    'Missing Values': missing_values_count.values,\n",
    "    'Percentage': missing_values_percentage.values\n",
    "})\n",
    "\n",
    "print(missing_values_df)"
   ]
  },
  {
   "cell_type": "code",
   "execution_count": 264,
   "metadata": {},
   "outputs": [
    {
     "name": "stdout",
     "output_type": "stream",
     "text": [
      "Features with missing values:\n",
      "Age_band_of_driver         1548\n",
      "Sex_of_driver               178\n",
      "Educational_level           841\n",
      "Vehicle_driver_relation     593\n",
      "Driving_experience          862\n",
      "Type_of_vehicle             950\n",
      "Owner_of_vehicle            482\n",
      "Service_year_of_vehicle    6811\n",
      "Defect_of_vehicle          4427\n",
      "Area_accident_occured       261\n",
      "Lanes_or_Medians            442\n",
      "Road_allignment             142\n",
      "Types_of_Junction          1078\n",
      "Road_surface_type           172\n",
      "Weather_conditions          292\n",
      "Type_of_collision           169\n",
      "Vehicle_movement            396\n",
      "Work_of_casuality          3217\n",
      "Fitness_of_casuality       2635\n",
      "Cause_of_accident            25\n",
      "dtype: int64\n"
     ]
    }
   ],
   "source": [
    "missing_columns = missing_values_count[missing_values_count > 0]\n",
    "print(\"Features with missing values:\")\n",
    "print(missing_columns)"
   ]
  },
  {
   "cell_type": "code",
   "execution_count": 265,
   "metadata": {},
   "outputs": [
    {
     "name": "stdout",
     "output_type": "stream",
     "text": [
      "There are 20 features with missing values.\n"
     ]
    }
   ],
   "source": [
    "num_features_with_missing_values = len(missing_columns)\n",
    "print(f\"There are {num_features_with_missing_values} features with missing values.\")"
   ]
  },
  {
   "cell_type": "markdown",
   "metadata": {},
   "source": [
    "Checking the class distribution of the accident severity feature to see if there is class imbalance"
   ]
  },
  {
   "cell_type": "code",
   "execution_count": 266,
   "metadata": {},
   "outputs": [
    {
     "data": {
      "image/png": "[encoded data removed]",
      "text/plain": [
       "<Figure size 1000x600 with 1 Axes>"
      ]
     },
     "metadata": {},
     "output_type": "display_data"
    }
   ],
   "source": [
    "severity_counts = df['Accident_severity'].value_counts()\n",
    "\n",
    "plt.figure(figsize=(10, 6))\n",
    "bars = plt.bar(severity_counts.index, severity_counts.values, color='skyblue')\n",
    "\n",
    "for bar in bars:\n",
    "    yval = bar.get_height()\n",
    "    plt.text(bar.get_x() + bar.get_width()/2, yval, int(yval), va='bottom', ha='center')\n",
    "\n",
    "plt.title('Distribution of Accident Severity')\n",
    "plt.xlabel('Severity')\n",
    "plt.ylabel('Count')\n",
    "plt.xticks(rotation=0)  # Keeps the labels horizontal\n",
    "plt.show()"
   ]
  },
  {
   "cell_type": "markdown",
   "metadata": {},
   "source": [
    "As seen in the plot there is class imbalance in the accident severity feature"
   ]
  },
  {
   "cell_type": "markdown",
   "metadata": {},
   "source": [
    "We used the chi-square test to test the connection between the features and the target feature"
   ]
  },
  {
   "cell_type": "code",
   "execution_count": 267,
   "metadata": {},
   "outputs": [
    {
     "name": "stdout",
     "output_type": "stream",
     "text": [
      "P-values for Chi-square tests:\n",
      "Time: 0.0\n",
      "Day_of_week: 4.300318794119764e-06\n",
      "Age_band_of_driver: 7.452442073248769e-06\n",
      "Sex_of_driver: 0.34293513426133304\n",
      "Educational_level: 0.9818024099338314\n",
      "Vehicle_driver_relation: 0.2677542946833754\n",
      "Driving_experience: 0.04833484395993074\n",
      "Type_of_vehicle: 0.09018330137326895\n",
      "Owner_of_vehicle: 0.43000275577669866\n",
      "Service_year_of_vehicle: 0.6753270118148866\n",
      "Defect_of_vehicle: 0.6441860652399953\n",
      "Area_accident_occured: 0.004247745713691539\n",
      "Lanes_or_Medians: 0.28345179896377365\n",
      "Road_allignment: 0.6734378459141934\n",
      "Types_of_Junction: 2.826191890502061e-07\n",
      "Road_surface_type: 0.20124010840608175\n",
      "Road_surface_conditions: 0.4551747454425168\n",
      "Light_conditions: 4.6279540659702016e-08\n",
      "Weather_conditions: 0.0013174317968984509\n",
      "Type_of_collision: 0.2106117751136205\n",
      "Number_of_vehicles_involved: 3.0133430176891622e-62\n",
      "Number_of_casualties: 2.0454183587168176e-67\n",
      "Vehicle_movement: 0.4962953976473722\n",
      "Casualty_class: 0.37222404710472334\n",
      "Sex_of_casualty: 0.14721414798543986\n",
      "Age_band_of_casualty: 0.028786354282988032\n",
      "Casualty_severity: 0.4693653726901289\n",
      "Work_of_casuality: 0.4583764309332443\n",
      "Fitness_of_casuality: 0.5251212269532279\n",
      "Pedestrian_movement: 0.5804003412240692\n",
      "Cause_of_accident: 0.08927124032470275\n"
     ]
    }
   ],
   "source": [
    "from scipy.stats import chi2_contingency\n",
    "categorical_features = df.columns[df.columns != 'Accident_severity'].tolist()\n",
    "\n",
    "chi_square_results = {}\n",
    "\n",
    "for feature in categorical_features:\n",
    "    contingency_table = pd.crosstab(df[feature], df['Accident_severity'])\n",
    "    chi2, p, dof, expected = chi2_contingency(contingency_table)\n",
    "    chi_square_results[feature] = p\n",
    "\n",
    "print(\"P-values for Chi-square tests:\")\n",
    "for feature, p_value in chi_square_results.items():\n",
    "    print(f\"{feature}: {p_value}\")"
   ]
  },
  {
   "cell_type": "markdown",
   "metadata": {},
   "source": [
    "We will drop the Service_year_of_vehicle feature because it has more than 55% missing data"
   ]
  },
  {
   "cell_type": "code",
   "execution_count": 268,
   "metadata": {},
   "outputs": [
    {
     "name": "stdout",
     "output_type": "stream",
     "text": [
      "Index(['Time', 'Day_of_week', 'Age_band_of_driver', 'Sex_of_driver',\n",
      "       'Educational_level', 'Vehicle_driver_relation', 'Driving_experience',\n",
      "       'Type_of_vehicle', 'Owner_of_vehicle', 'Defect_of_vehicle',\n",
      "       'Area_accident_occured', 'Lanes_or_Medians', 'Road_allignment',\n",
      "       'Types_of_Junction', 'Road_surface_type', 'Road_surface_conditions',\n",
      "       'Light_conditions', 'Weather_conditions', 'Type_of_collision',\n",
      "       'Number_of_vehicles_involved', 'Number_of_casualties',\n",
      "       'Vehicle_movement', 'Casualty_class', 'Sex_of_casualty',\n",
      "       'Age_band_of_casualty', 'Casualty_severity', 'Work_of_casuality',\n",
      "       'Fitness_of_casuality', 'Pedestrian_movement', 'Cause_of_accident',\n",
      "       'Accident_severity'],\n",
      "      dtype='object')\n"
     ]
    }
   ],
   "source": [
    "df.drop('Service_year_of_vehicle', axis=1, inplace=True)\n",
    "print(df.columns)"
   ]
  },
  {
   "cell_type": "markdown",
   "metadata": {},
   "source": [
    "We will aslo drop the Defect_of_vehicle feature"
   ]
  },
  {
   "cell_type": "code",
   "execution_count": 269,
   "metadata": {},
   "outputs": [
    {
     "name": "stdout",
     "output_type": "stream",
     "text": [
      "Index(['Time', 'Day_of_week', 'Age_band_of_driver', 'Sex_of_driver',\n",
      "       'Educational_level', 'Vehicle_driver_relation', 'Driving_experience',\n",
      "       'Type_of_vehicle', 'Owner_of_vehicle', 'Area_accident_occured',\n",
      "       'Lanes_or_Medians', 'Road_allignment', 'Types_of_Junction',\n",
      "       'Road_surface_type', 'Road_surface_conditions', 'Light_conditions',\n",
      "       'Weather_conditions', 'Type_of_collision',\n",
      "       'Number_of_vehicles_involved', 'Number_of_casualties',\n",
      "       'Vehicle_movement', 'Casualty_class', 'Sex_of_casualty',\n",
      "       'Age_band_of_casualty', 'Casualty_severity', 'Work_of_casuality',\n",
      "       'Fitness_of_casuality', 'Pedestrian_movement', 'Cause_of_accident',\n",
      "       'Accident_severity'],\n",
      "      dtype='object')\n"
     ]
    }
   ],
   "source": [
    "df.drop('Defect_of_vehicle', axis=1, inplace=True)\n",
    "print(df.columns)"
   ]
  },
  {
   "cell_type": "markdown",
   "metadata": {},
   "source": [
    "We will also drop the Work_of_casuality feature"
   ]
  },
  {
   "cell_type": "code",
   "execution_count": 270,
   "metadata": {},
   "outputs": [
    {
     "name": "stdout",
     "output_type": "stream",
     "text": [
      "Index(['Time', 'Day_of_week', 'Age_band_of_driver', 'Sex_of_driver',\n",
      "       'Educational_level', 'Vehicle_driver_relation', 'Driving_experience',\n",
      "       'Type_of_vehicle', 'Owner_of_vehicle', 'Area_accident_occured',\n",
      "       'Lanes_or_Medians', 'Road_allignment', 'Types_of_Junction',\n",
      "       'Road_surface_type', 'Road_surface_conditions', 'Light_conditions',\n",
      "       'Weather_conditions', 'Type_of_collision',\n",
      "       'Number_of_vehicles_involved', 'Number_of_casualties',\n",
      "       'Vehicle_movement', 'Casualty_class', 'Sex_of_casualty',\n",
      "       'Age_band_of_casualty', 'Casualty_severity', 'Fitness_of_casuality',\n",
      "       'Pedestrian_movement', 'Cause_of_accident', 'Accident_severity'],\n",
      "      dtype='object')\n"
     ]
    }
   ],
   "source": [
    "df.drop('Work_of_casuality', axis=1, inplace=True)\n",
    "print(df.columns)"
   ]
  },
  {
   "cell_type": "code",
   "execution_count": 271,
   "metadata": {},
   "outputs": [
    {
     "data": {
      "text/plain": [
       "(12316, 29)"
      ]
     },
     "execution_count": 271,
     "metadata": {},
     "output_type": "execute_result"
    }
   ],
   "source": [
    "df.shape"
   ]
  },
  {
   "cell_type": "markdown",
   "metadata": {},
   "source": [
    "We dropped features that have more than 25% of missing values"
   ]
  },
  {
   "cell_type": "markdown",
   "metadata": {},
   "source": [
    "Now we will move on to some of the transformations so we can check the correlation"
   ]
  },
  {
   "cell_type": "markdown",
   "metadata": {},
   "source": [
    "The first feature that will be transformed is the Time feature. We first set the type of the feature to be datetyme type so that we can categoriste it in the following way:\n",
    "- Value 1: Morning - 06:00-12:00\n",
    "- Value 2: Afternoon - 12:00-18:00\n",
    "- Value 3: Evening - 18:00-00:00\n",
    "- Value 4: Night - 00:00-06:00\n",
    "\n",
    "This data is stored in a new feature called Time_of_Day and we will then drom the Time feature"
   ]
  },
  {
   "cell_type": "code",
   "execution_count": 272,
   "metadata": {},
   "outputs": [],
   "source": [
    "df['Time'] = pd.to_datetime(df['Time'], format='%H:%M:%S').dt.time\n",
    "\n",
    "def categorize_time(time):\n",
    "    if time >= pd.Timestamp('06:00:00').time() and time < pd.Timestamp('12:00:00').time():\n",
    "        return 1  # Morning\n",
    "    elif time >= pd.Timestamp('12:00:00').time() and time < pd.Timestamp('18:00:00').time():\n",
    "        return 2  # Afternoon\n",
    "    elif time >= pd.Timestamp('18:00:00').time() and time < pd.Timestamp('00:00:00').time():\n",
    "        return 3  # Evening\n",
    "    else:\n",
    "        return 4  # Night\n",
    "    \n",
    "df['Time_of_Day'] = df['Time'].apply(categorize_time)"
   ]
  },
  {
   "cell_type": "code",
   "execution_count": 273,
   "metadata": {},
   "outputs": [
    {
     "name": "stdout",
     "output_type": "stream",
     "text": [
      "Index(['Day_of_week', 'Age_band_of_driver', 'Sex_of_driver',\n",
      "       'Educational_level', 'Vehicle_driver_relation', 'Driving_experience',\n",
      "       'Type_of_vehicle', 'Owner_of_vehicle', 'Area_accident_occured',\n",
      "       'Lanes_or_Medians', 'Road_allignment', 'Types_of_Junction',\n",
      "       'Road_surface_type', 'Road_surface_conditions', 'Light_conditions',\n",
      "       'Weather_conditions', 'Type_of_collision',\n",
      "       'Number_of_vehicles_involved', 'Number_of_casualties',\n",
      "       'Vehicle_movement', 'Casualty_class', 'Sex_of_casualty',\n",
      "       'Age_band_of_casualty', 'Casualty_severity', 'Fitness_of_casuality',\n",
      "       'Pedestrian_movement', 'Cause_of_accident', 'Accident_severity',\n",
      "       'Time_of_Day'],\n",
      "      dtype='object')\n",
      "      Day_of_week Age_band_of_driver Sex_of_driver   Educational_level  \\\n",
      "0          Monday              18-30          Male   Above high school   \n",
      "1          Monday              31-50          Male  Junior high school   \n",
      "2          Monday              18-30          Male  Junior high school   \n",
      "3          Sunday              18-30          Male  Junior high school   \n",
      "4          Sunday              18-30          Male  Junior high school   \n",
      "...           ...                ...           ...                 ...   \n",
      "12311   Wednesday              31-50          Male                 NaN   \n",
      "12312      Sunday                NaN          Male   Elementary school   \n",
      "12313      Sunday            Over 51          Male  Junior high school   \n",
      "12314      Sunday              18-30        Female  Junior high school   \n",
      "12315      Sunday              18-30          Male  Junior high school   \n",
      "\n",
      "      Vehicle_driver_relation Driving_experience      Type_of_vehicle  \\\n",
      "0                    Employee              1-2yr           Automobile   \n",
      "1                    Employee         Above 10yr  Public (> 45 seats)   \n",
      "2                    Employee              1-2yr      Lorry (41?100Q)   \n",
      "3                    Employee             5-10yr  Public (> 45 seats)   \n",
      "4                    Employee              2-5yr                  NaN   \n",
      "...                       ...                ...                  ...   \n",
      "12311                Employee              2-5yr       Lorry (11?40Q)   \n",
      "12312                Employee             5-10yr           Automobile   \n",
      "12313                Employee             5-10yr                Bajaj   \n",
      "12314                Employee         Above 10yr      Lorry (41?100Q)   \n",
      "12315                Employee             5-10yr                Other   \n",
      "\n",
      "      Owner_of_vehicle Area_accident_occured  \\\n",
      "0                Owner     Residential areas   \n",
      "1                Owner          Office areas   \n",
      "2                Owner    Recreational areas   \n",
      "3         Governmental          Office areas   \n",
      "4                Owner      Industrial areas   \n",
      "...                ...                   ...   \n",
      "12311            Owner   Outside rural areas   \n",
      "12312            Owner   Outside rural areas   \n",
      "12313            Owner   Outside rural areas   \n",
      "12314            Owner          Office areas   \n",
      "12315            Owner   Outside rural areas   \n",
      "\n",
      "                                       Lanes_or_Medians  ... Vehicle_movement  \\\n",
      "0                                                   NaN  ...   Going straight   \n",
      "1                                     Undivided Two way  ...   Going straight   \n",
      "2                                                 other  ...   Going straight   \n",
      "3                                                 other  ...   Going straight   \n",
      "4                                                 other  ...   Going straight   \n",
      "...                                                 ...  ...              ...   \n",
      "12311                                 Undivided Two way  ...   Going straight   \n",
      "12312  Two-way (divided with broken lines road marking)  ...            Other   \n",
      "12313  Two-way (divided with broken lines road marking)  ...            Other   \n",
      "12314                                 Undivided Two way  ...            Other   \n",
      "12315                                 Undivided Two way  ...         Stopping   \n",
      "\n",
      "        Casualty_class Sex_of_casualty Age_band_of_casualty Casualty_severity  \\\n",
      "0                   na              na                   na                na   \n",
      "1                   na              na                   na                na   \n",
      "2      Driver or rider            Male                31-50                 3   \n",
      "3           Pedestrian          Female                18-30                 3   \n",
      "4                   na              na                   na                na   \n",
      "...                ...             ...                  ...               ...   \n",
      "12311               na              na                   na                na   \n",
      "12312               na              na                   na                na   \n",
      "12313  Driver or rider            Male                31-50                 3   \n",
      "12314               na              na                   na                na   \n",
      "12315       Pedestrian          Female                    5                 3   \n",
      "\n",
      "      Fitness_of_casuality                                Pedestrian_movement  \\\n",
      "0                      NaN                                   Not a Pedestrian   \n",
      "1                      NaN                                   Not a Pedestrian   \n",
      "2                      NaN                                   Not a Pedestrian   \n",
      "3                   Normal                                   Not a Pedestrian   \n",
      "4                      NaN                                   Not a Pedestrian   \n",
      "...                    ...                                                ...   \n",
      "12311               Normal                                   Not a Pedestrian   \n",
      "12312               Normal                                   Not a Pedestrian   \n",
      "12313               Normal                                   Not a Pedestrian   \n",
      "12314               Normal                                   Not a Pedestrian   \n",
      "12315               Normal  Crossing from nearside - masked by parked or s...   \n",
      "\n",
      "                          Cause_of_accident  Accident_severity Time_of_Day  \n",
      "0                           Moving Backward      Slight Injury           2  \n",
      "1                                Overtaking      Slight Injury           2  \n",
      "2                 Changing lane to the left     Serious Injury           2  \n",
      "3                Changing lane to the right      Slight Injury           4  \n",
      "4                                Overtaking      Slight Injury           4  \n",
      "...                                     ...                ...         ...  \n",
      "12311                         No distancing      Slight Injury           2  \n",
      "12312                         No distancing      Slight Injury           4  \n",
      "12313            Changing lane to the right     Serious Injury           2  \n",
      "12314  Driving under the influence of drugs      Slight Injury           2  \n",
      "12315            Changing lane to the right      Slight Injury           2  \n",
      "\n",
      "[12316 rows x 29 columns]\n"
     ]
    }
   ],
   "source": [
    "df.drop('Time', axis=1, inplace=True)\n",
    "print(df.columns)\n",
    "print(df)"
   ]
  },
  {
   "cell_type": "code",
   "execution_count": 274,
   "metadata": {},
   "outputs": [
    {
     "name": "stdout",
     "output_type": "stream",
     "text": [
      "<class 'pandas.core.frame.DataFrame'>\n",
      "RangeIndex: 12316 entries, 0 to 12315\n",
      "Data columns (total 29 columns):\n",
      " #   Column                       Non-Null Count  Dtype \n",
      "---  ------                       --------------  ----- \n",
      " 0   Day_of_week                  12316 non-null  object\n",
      " 1   Age_band_of_driver           10768 non-null  object\n",
      " 2   Sex_of_driver                12138 non-null  object\n",
      " 3   Educational_level            11475 non-null  object\n",
      " 4   Vehicle_driver_relation      11723 non-null  object\n",
      " 5   Driving_experience           11454 non-null  object\n",
      " 6   Type_of_vehicle              11366 non-null  object\n",
      " 7   Owner_of_vehicle             11834 non-null  object\n",
      " 8   Area_accident_occured        12055 non-null  object\n",
      " 9   Lanes_or_Medians             11874 non-null  object\n",
      " 10  Road_allignment              12174 non-null  object\n",
      " 11  Types_of_Junction            11238 non-null  object\n",
      " 12  Road_surface_type            12144 non-null  object\n",
      " 13  Road_surface_conditions      12316 non-null  object\n",
      " 14  Light_conditions             12316 non-null  object\n",
      " 15  Weather_conditions           12024 non-null  object\n",
      " 16  Type_of_collision            12147 non-null  object\n",
      " 17  Number_of_vehicles_involved  12316 non-null  int64 \n",
      " 18  Number_of_casualties         12316 non-null  int64 \n",
      " 19  Vehicle_movement             11920 non-null  object\n",
      " 20  Casualty_class               12316 non-null  object\n",
      " 21  Sex_of_casualty              12316 non-null  object\n",
      " 22  Age_band_of_casualty         12316 non-null  object\n",
      " 23  Casualty_severity            12316 non-null  object\n",
      " 24  Fitness_of_casuality         9681 non-null   object\n",
      " 25  Pedestrian_movement          12316 non-null  object\n",
      " 26  Cause_of_accident            12291 non-null  object\n",
      " 27  Accident_severity            12316 non-null  object\n",
      " 28  Time_of_Day                  12316 non-null  int64 \n",
      "dtypes: int64(3), object(26)\n",
      "memory usage: 2.7+ MB\n"
     ]
    }
   ],
   "source": [
    "df.info()"
   ]
  },
  {
   "cell_type": "markdown",
   "metadata": {},
   "source": [
    "Next we will transform the Day_of_week feature.\n",
    "- Value 1: Monday\n",
    "- Value 2: Tuesday\n",
    "- Value 3: Wednesday\n",
    "- Value 4: Thursday\n",
    "- Value 5: Friday\n",
    "- Value 6: Saturday\n",
    "- Value 7: Sunday"
   ]
  },
  {
   "cell_type": "code",
   "execution_count": 275,
   "metadata": {},
   "outputs": [],
   "source": [
    "day_mapping = {\n",
    "    'Monday': 1,\n",
    "    'Tuesday': 2,\n",
    "    'Wednesday': 3,\n",
    "    'Thursday': 4,\n",
    "    'Friday': 5,\n",
    "    'Saturday': 6,\n",
    "    'Sunday': 7\n",
    "}\n",
    "\n",
    "df['Day_of_week'] = df['Day_of_week'].map(day_mapping)"
   ]
  },
  {
   "cell_type": "markdown",
   "metadata": {},
   "source": [
    "The next feature that we will transform is the Age_band_of_driver feature:\n",
    "- Value 1: Under 18\n",
    "- Value 2: 18-30\n",
    "- Value 3: 31-50\n",
    "- Value 4: Over 51"
   ]
  },
  {
   "cell_type": "code",
   "execution_count": 276,
   "metadata": {},
   "outputs": [],
   "source": [
    "age_mapping = {\n",
    "    'Under 18': 1,\n",
    "    '18-30': 2,\n",
    "    '31-50': 3,\n",
    "    'Over 51': 4\n",
    "}\n",
    "df['Age_band_of_driver'] = df['Age_band_of_driver'].map(age_mapping)"
   ]
  },
  {
   "cell_type": "markdown",
   "metadata": {},
   "source": [
    "The next feature that we will transform is the Sex_of_driver feature:\n",
    "- Value 1: Male\n",
    "- Value 2: Female"
   ]
  },
  {
   "cell_type": "code",
   "execution_count": 277,
   "metadata": {},
   "outputs": [],
   "source": [
    "sex_mapping = {\n",
    "    'Male': 1,\n",
    "    'Female': 2\n",
    "}\n",
    "df['Sex_of_driver'] = df['Sex_of_driver'].map(sex_mapping)"
   ]
  },
  {
   "cell_type": "code",
   "execution_count": 278,
   "metadata": {},
   "outputs": [
    {
     "data": {
      "text/plain": [
       "array(['Employee', nan, 'Owner', 'Other'], dtype=object)"
      ]
     },
     "execution_count": 278,
     "metadata": {},
     "output_type": "execute_result"
    }
   ],
   "source": [
    "df['Vehicle_driver_relation'].unique()"
   ]
  },
  {
   "cell_type": "markdown",
   "metadata": {},
   "source": [
    "Vehicle_driver_relation transformation:\n",
    "- Value 1: Employee\n",
    "- Value 2: Owner\n",
    "- Value 3: Other"
   ]
  },
  {
   "cell_type": "code",
   "execution_count": 279,
   "metadata": {},
   "outputs": [],
   "source": [
    "df_mapping = {\n",
    "    'Employee': 1,\n",
    "    'Owner': 2,\n",
    "    'Other': 3\n",
    "}\n",
    "df['Vehicle_driver_relation'] = df['Vehicle_driver_relation'].map(df_mapping)"
   ]
  },
  {
   "cell_type": "code",
   "execution_count": 280,
   "metadata": {},
   "outputs": [
    {
     "data": {
      "text/plain": [
       "array(['1-2yr', 'Above 10yr', '5-10yr', '2-5yr', nan, 'No Licence',\n",
       "       'Below 1yr'], dtype=object)"
      ]
     },
     "execution_count": 280,
     "metadata": {},
     "output_type": "execute_result"
    }
   ],
   "source": [
    "df['Driving_experience'].unique()"
   ]
  },
  {
   "cell_type": "markdown",
   "metadata": {},
   "source": [
    "Driving_experience transformation:\n",
    "- Value 1: Below 1yr\n",
    "- Value 2: 1-2yr\n",
    "- Value 3: 2-5yr\n",
    "- Value 4: 5-10yr\n",
    "- Value 5: Above 10yr\n",
    "- Value 6: No Licence"
   ]
  },
  {
   "cell_type": "code",
   "execution_count": 281,
   "metadata": {},
   "outputs": [],
   "source": [
    "df_mapping = {\n",
    "    'Below 1yr': 1,\n",
    "    '1-2yr': 2,\n",
    "    '2-5yr': 3,\n",
    "    '5-10yr': 4,\n",
    "    'Above 10yr': 5,\n",
    "    'No Licence': 6\n",
    "}\n",
    "df['Driving_experience'] = df['Driving_experience'].map(df_mapping)"
   ]
  },
  {
   "cell_type": "code",
   "execution_count": 282,
   "metadata": {},
   "outputs": [
    {
     "data": {
      "text/plain": [
       "array(['Owner', 'Governmental', nan, 'Organization', 'Other'],\n",
       "      dtype=object)"
      ]
     },
     "execution_count": 282,
     "metadata": {},
     "output_type": "execute_result"
    }
   ],
   "source": [
    "df['Owner_of_vehicle'].unique()"
   ]
  },
  {
   "cell_type": "markdown",
   "metadata": {},
   "source": [
    "Owner_of_vehicle transformation:\n",
    "- Value 1: Owner\n",
    "- Value 2: Governmental\n",
    "- Value 3: Organization\n",
    "- Value 4: Other"
   ]
  },
  {
   "cell_type": "code",
   "execution_count": 283,
   "metadata": {},
   "outputs": [],
   "source": [
    "df_mapping = {\n",
    "    'Owner': 1,\n",
    "    'Governmental': 2,\n",
    "    'Organization': 3,\n",
    "    'Other': 4\n",
    "}\n",
    "df['Owner_of_vehicle'] = df['Owner_of_vehicle'].map(df_mapping)"
   ]
  },
  {
   "cell_type": "code",
   "execution_count": 284,
   "metadata": {},
   "outputs": [
    {
     "data": {
      "text/plain": [
       "array(['Residential areas', 'Office areas', '  Recreational areas',\n",
       "       ' Industrial areas', nan, 'Other', ' Church areas',\n",
       "       '  Market areas', 'Rural village areas', ' Outside rural areas',\n",
       "       ' Hospital areas', 'School areas',\n",
       "       'Rural village areasOffice areas', 'Recreational areas'],\n",
       "      dtype=object)"
      ]
     },
     "execution_count": 284,
     "metadata": {},
     "output_type": "execute_result"
    }
   ],
   "source": [
    "df['Area_accident_occured'].unique()"
   ]
  },
  {
   "cell_type": "markdown",
   "metadata": {},
   "source": [
    "Lanes_or_Medians transformation:\n",
    "- Value 1: Undivided Two way\n",
    "- Value 2: Double carriageway (median)\n",
    "- Value 3: One way\n",
    "- Value 4: Two-way (divided with solid lines road marking)\n",
    "- Value 5: Two-way (divided with broken lines road marking)\n",
    "- Value 6: other"
   ]
  },
  {
   "cell_type": "code",
   "execution_count": 285,
   "metadata": {},
   "outputs": [
    {
     "data": {
      "text/plain": [
       "array([nan, 'Undivided Two way', 'other', 'Double carriageway (median)',\n",
       "       'One way', 'Two-way (divided with solid lines road marking)',\n",
       "       'Two-way (divided with broken lines road marking)'], dtype=object)"
      ]
     },
     "execution_count": 285,
     "metadata": {},
     "output_type": "execute_result"
    }
   ],
   "source": [
    "df['Lanes_or_Medians'].unique()"
   ]
  },
  {
   "cell_type": "code",
   "execution_count": 286,
   "metadata": {},
   "outputs": [],
   "source": [
    "df_mapping = {\n",
    "    'Undivided Two way': 1,\n",
    "    'Double carriageway (median)': 2,\n",
    "    'One way': 3,\n",
    "    'Two-way (divided with solid lines road marking)': 4,\n",
    "    'Two-way (divided with broken lines road marking)': 5,\n",
    "    'other': 6\n",
    "}\n",
    "df['Lanes_or_Medians'] = df['Lanes_or_Medians'].map(df_mapping)"
   ]
  },
  {
   "cell_type": "code",
   "execution_count": 287,
   "metadata": {},
   "outputs": [
    {
     "data": {
      "text/plain": [
       "array(['Tangent road with flat terrain', nan,\n",
       "       'Tangent road with mild grade and flat terrain', 'Escarpments',\n",
       "       'Tangent road with rolling terrain', 'Gentle horizontal curve',\n",
       "       'Tangent road with mountainous terrain and',\n",
       "       'Steep grade downward with mountainous terrain',\n",
       "       'Sharp reverse curve',\n",
       "       'Steep grade upward with mountainous terrain'], dtype=object)"
      ]
     },
     "execution_count": 287,
     "metadata": {},
     "output_type": "execute_result"
    }
   ],
   "source": [
    "df['Road_allignment'].unique()"
   ]
  },
  {
   "cell_type": "markdown",
   "metadata": {},
   "source": [
    "Road_allignment transformation:\n"
   ]
  },
  {
   "cell_type": "code",
   "execution_count": 288,
   "metadata": {},
   "outputs": [],
   "source": [
    "df_mapping = {\n",
    "    'Tangent road with flat terrain': 1,\n",
    "    'Tangent road with mild grade and flat terrain': 2,\n",
    "    'Escarpments': 3,\n",
    "    'Tangent road with rolling terrain': 4,\n",
    "    'Gentle horizontal curve': 5,\n",
    "    'Tangent road with mountainous terrain and': 6,\n",
    "    'Steep grade downward with mountainous terrain': 7,\n",
    "    'Sharp reverse curve': 8,\n",
    "    'Steep grade upward with mountainous terrain': 9\n",
    "}\n",
    "df['Road_allignment'] = df['Road_allignment'].map(df_mapping)"
   ]
  },
  {
   "cell_type": "code",
   "execution_count": 289,
   "metadata": {},
   "outputs": [
    {
     "data": {
      "text/plain": [
       "array(['No junction', 'Y Shape', 'Crossing', 'O Shape', 'Other', nan,\n",
       "       'T Shape', 'X Shape'], dtype=object)"
      ]
     },
     "execution_count": 289,
     "metadata": {},
     "output_type": "execute_result"
    }
   ],
   "source": [
    "df['Types_of_Junction'].unique()"
   ]
  },
  {
   "cell_type": "markdown",
   "metadata": {},
   "source": [
    "Types_of_Junction transformation"
   ]
  },
  {
   "cell_type": "code",
   "execution_count": 290,
   "metadata": {},
   "outputs": [],
   "source": [
    "df_mapping = {\n",
    "    'No junction': 1,\n",
    "    'Y Shape': 2,\n",
    "    'Crossing': 3,\n",
    "    'O Shape': 4,\n",
    "    'T Shape': 5,\n",
    "    'X Shape': 6,\n",
    "    'Other': 7\n",
    "}\n",
    "df['Types_of_Junction'] = df['Types_of_Junction'].map(df_mapping)"
   ]
  },
  {
   "cell_type": "code",
   "execution_count": 291,
   "metadata": {},
   "outputs": [
    {
     "data": {
      "text/plain": [
       "array(['Asphalt roads', 'Earth roads', nan,\n",
       "       'Asphalt roads with some distress', 'Gravel roads', 'Other'],\n",
       "      dtype=object)"
      ]
     },
     "execution_count": 291,
     "metadata": {},
     "output_type": "execute_result"
    }
   ],
   "source": [
    "df['Road_surface_type'].unique()"
   ]
  },
  {
   "cell_type": "markdown",
   "metadata": {},
   "source": [
    "Road_surface_type transformation"
   ]
  },
  {
   "cell_type": "code",
   "execution_count": 292,
   "metadata": {},
   "outputs": [],
   "source": [
    "df_mapping = {\n",
    "    'Asphalt roads': 1,\n",
    "    'Earth roads': 2,\n",
    "    'Asphalt roads with some distress': 3,\n",
    "    'Gravel roads': 4,\n",
    "    'Other': 5\n",
    "}\n",
    "df['Road_surface_type'] = df['Road_surface_type'].map(df_mapping)"
   ]
  },
  {
   "cell_type": "code",
   "execution_count": 293,
   "metadata": {},
   "outputs": [
    {
     "data": {
      "text/plain": [
       "array(['Dry', 'Wet or damp', 'Snow', 'Flood over 3cm. deep'], dtype=object)"
      ]
     },
     "execution_count": 293,
     "metadata": {},
     "output_type": "execute_result"
    }
   ],
   "source": [
    "df['Road_surface_conditions'].unique()"
   ]
  },
  {
   "cell_type": "markdown",
   "metadata": {},
   "source": [
    "Road_surface_conditions transformation"
   ]
  },
  {
   "cell_type": "code",
   "execution_count": 294,
   "metadata": {},
   "outputs": [],
   "source": [
    "df_mapping = {\n",
    "    'Dry': 1,\n",
    "    'Wet or damp': 2,\n",
    "    'Snow': 3,\n",
    "    'Flood over 3cm. deep': 4\n",
    "    }\n",
    "df['Road_surface_type'] = df['Road_surface_type'].map(df_mapping)"
   ]
  },
  {
   "cell_type": "code",
   "execution_count": 295,
   "metadata": {},
   "outputs": [
    {
     "data": {
      "text/plain": [
       "array(['Daylight', 'Darkness - lights lit', 'Darkness - no lighting',\n",
       "       'Darkness - lights unlit'], dtype=object)"
      ]
     },
     "execution_count": 295,
     "metadata": {},
     "output_type": "execute_result"
    }
   ],
   "source": [
    "df['Light_conditions'].unique()"
   ]
  },
  {
   "cell_type": "markdown",
   "metadata": {},
   "source": [
    "Light_conditions transformation"
   ]
  },
  {
   "cell_type": "code",
   "execution_count": 296,
   "metadata": {},
   "outputs": [],
   "source": [
    "df_mapping = {\n",
    "    'Daylight': 1,\n",
    "    'Darkness - lights lit': 2,\n",
    "    'Darkness - no lighting': 3,\n",
    "    'Darkness - lights unlit': 4\n",
    "    }\n",
    "df['Light_conditions'] = df['Light_conditions'].map(df_mapping)"
   ]
  },
  {
   "cell_type": "code",
   "execution_count": 297,
   "metadata": {},
   "outputs": [
    {
     "data": {
      "text/plain": [
       "array(['Normal', 'Raining', 'Raining and Windy', 'Cloudy', 'Other',\n",
       "       'Windy', 'Snow', nan, 'Fog or mist'], dtype=object)"
      ]
     },
     "execution_count": 297,
     "metadata": {},
     "output_type": "execute_result"
    }
   ],
   "source": [
    "df['Weather_conditions'].unique()"
   ]
  },
  {
   "cell_type": "markdown",
   "metadata": {},
   "source": [
    "Weather_conditions transformation"
   ]
  },
  {
   "cell_type": "code",
   "execution_count": 298,
   "metadata": {},
   "outputs": [],
   "source": [
    "df_mapping = {\n",
    "    'Normal': 1,\n",
    "    'Raining': 2,\n",
    "    'Raining and Windy': 3,\n",
    "    'Cloudy': 4,\n",
    "    'Windy': 5,\n",
    "    'Snow': 6,\n",
    "    'Fog or mist': 7,\n",
    "    'Other': 8\n",
    "}\n",
    "df['Weather_conditions'] = df['Weather_conditions'].map(df_mapping)"
   ]
  },
  {
   "cell_type": "code",
   "execution_count": 299,
   "metadata": {},
   "outputs": [
    {
     "data": {
      "text/plain": [
       "array(['Collision with roadside-parked vehicles',\n",
       "       'Vehicle with vehicle collision',\n",
       "       'Collision with roadside objects', 'Collision with animals',\n",
       "       'Other', 'Rollover', 'Fall from vehicles',\n",
       "       'Collision with pedestrians', 'With Train', nan], dtype=object)"
      ]
     },
     "execution_count": 299,
     "metadata": {},
     "output_type": "execute_result"
    }
   ],
   "source": [
    "df['Type_of_collision'].unique()"
   ]
  },
  {
   "cell_type": "markdown",
   "metadata": {},
   "source": [
    "Type_of_collision transformation"
   ]
  },
  {
   "cell_type": "code",
   "execution_count": 300,
   "metadata": {},
   "outputs": [],
   "source": [
    "df_mapping = {\n",
    "    'Collision with roadside-parked vehicles': 1,\n",
    "    'Vehicle with vehicle collision': 2,\n",
    "    'Collision with roadside objects': 3,\n",
    "    'Collision with animals': 4,\n",
    "    'Rollover': 5,\n",
    "    'Fall from vehicles': 6,\n",
    "    'Collision with pedestrians': 7,\n",
    "    'With Train': 8,\n",
    "    'Other': 9\n",
    "}\n",
    "df['Type_of_collision'] = df['Type_of_collision'].map(df_mapping)"
   ]
  },
  {
   "cell_type": "markdown",
   "metadata": {},
   "source": [
    "Vehicle_movement transformation"
   ]
  },
  {
   "cell_type": "code",
   "execution_count": 301,
   "metadata": {},
   "outputs": [
    {
     "data": {
      "text/plain": [
       "array(['Going straight', 'U-Turn', 'Moving Backward', 'Turnover',\n",
       "       'Waiting to go', 'Getting off', 'Reversing', nan, 'Parked',\n",
       "       'Stopping', 'Overtaking', 'Other', 'Entering a junction'],\n",
       "      dtype=object)"
      ]
     },
     "execution_count": 301,
     "metadata": {},
     "output_type": "execute_result"
    }
   ],
   "source": [
    "df['Vehicle_movement'].unique()"
   ]
  },
  {
   "cell_type": "code",
   "execution_count": 302,
   "metadata": {},
   "outputs": [],
   "source": [
    "df_mapping = {\n",
    "    'Going straight': 1,\n",
    "    'U-Turn': 2,\n",
    "    'Moving Backward': 3,\n",
    "    'Turnover': 4,\n",
    "    'Waiting to go': 5,\n",
    "    'Getting off': 6,\n",
    "    'Reversing': 7,\n",
    "    'Parked': 8,\n",
    "    'Stopping': 9,\n",
    "    'Overtaking': 10,\n",
    "    'Entering a junction': 11,\n",
    "    'Other': 12\n",
    "}\n",
    "df['Vehicle_movement'] = df['Vehicle_movement'].map(df_mapping)"
   ]
  },
  {
   "cell_type": "code",
   "execution_count": 303,
   "metadata": {},
   "outputs": [
    {
     "data": {
      "text/plain": [
       "array(['na', 'Driver or rider', 'Pedestrian', 'Passenger'], dtype=object)"
      ]
     },
     "execution_count": 303,
     "metadata": {},
     "output_type": "execute_result"
    }
   ],
   "source": [
    "df['Casualty_class'].unique()"
   ]
  },
  {
   "cell_type": "markdown",
   "metadata": {},
   "source": [
    "Casualty_class transformation"
   ]
  },
  {
   "cell_type": "code",
   "execution_count": 304,
   "metadata": {},
   "outputs": [],
   "source": [
    "df_mapping = {\n",
    "    'Driver or rider': 1,\n",
    "    'Pedestrian': 2,\n",
    "    'Passenger': 3    \n",
    "}\n",
    "df['Casualty_class'] = df['Casualty_class'].map(df_mapping)"
   ]
  },
  {
   "cell_type": "code",
   "execution_count": 305,
   "metadata": {},
   "outputs": [
    {
     "data": {
      "text/plain": [
       "array(['na', 'Male', 'Female'], dtype=object)"
      ]
     },
     "execution_count": 305,
     "metadata": {},
     "output_type": "execute_result"
    }
   ],
   "source": [
    "df['Sex_of_casualty'].unique()"
   ]
  },
  {
   "cell_type": "code",
   "execution_count": 306,
   "metadata": {},
   "outputs": [],
   "source": [
    "sex_mapping = {\n",
    "    'Male': 1,\n",
    "    'Female': 2\n",
    "}\n",
    "df['Sex_of_casualty'] = df['Sex_of_casualty'].map(sex_mapping)"
   ]
  },
  {
   "cell_type": "code",
   "execution_count": 307,
   "metadata": {},
   "outputs": [
    {
     "data": {
      "text/plain": [
       "array(['na', '31-50', '18-30', 'Under 18', 'Over 51', '5'], dtype=object)"
      ]
     },
     "execution_count": 307,
     "metadata": {},
     "output_type": "execute_result"
    }
   ],
   "source": [
    "df['Age_band_of_casualty'].unique()"
   ]
  },
  {
   "cell_type": "markdown",
   "metadata": {},
   "source": [
    "Age_band_of_casualty transformation"
   ]
  },
  {
   "cell_type": "code",
   "execution_count": 308,
   "metadata": {},
   "outputs": [],
   "source": [
    "age_mapping = {\n",
    "    'Under 18': 1,\n",
    "    '5': 1,\n",
    "    '18-30': 2,\n",
    "    '31-50': 3,\n",
    "    'Over 51': 4\n",
    "}\n",
    "df['Age_band_of_casualty'] = df['Age_band_of_casualty'].map(age_mapping)"
   ]
  },
  {
   "cell_type": "code",
   "execution_count": 309,
   "metadata": {},
   "outputs": [
    {
     "data": {
      "text/plain": [
       "array([nan, 'Normal', 'Deaf', 'Other', 'Blind', 'NormalNormal'],\n",
       "      dtype=object)"
      ]
     },
     "execution_count": 309,
     "metadata": {},
     "output_type": "execute_result"
    }
   ],
   "source": [
    "df['Fitness_of_casuality'].unique()"
   ]
  },
  {
   "cell_type": "markdown",
   "metadata": {},
   "source": [
    "Fitness_of_casuality transformation"
   ]
  },
  {
   "cell_type": "code",
   "execution_count": 310,
   "metadata": {},
   "outputs": [],
   "source": [
    "df_mapping = {\n",
    "    'Normal': 1,\n",
    "    'NormalNormal': 1,\n",
    "    'Deaf': 2,\n",
    "    'Blind': 3,\n",
    "    'Other':4 \n",
    "}\n",
    "df['Fitness_of_casuality'] = df['Fitness_of_casuality'].map(df_mapping)"
   ]
  },
  {
   "cell_type": "markdown",
   "metadata": {},
   "source": [
    "Pedestrian_movement transformation"
   ]
  },
  {
   "cell_type": "code",
   "execution_count": 311,
   "metadata": {},
   "outputs": [
    {
     "data": {
      "text/plain": [
       "array(['Not a Pedestrian', \"Crossing from driver's nearside\",\n",
       "       'Crossing from nearside - masked by parked or statioNot a Pedestrianry vehicle',\n",
       "       'Unknown or other',\n",
       "       'Crossing from offside - masked by  parked or statioNot a Pedestrianry vehicle',\n",
       "       'In carriageway, statioNot a Pedestrianry - not crossing  (standing or playing)',\n",
       "       'Walking along in carriageway, back to traffic',\n",
       "       'Walking along in carriageway, facing traffic',\n",
       "       'In carriageway, statioNot a Pedestrianry - not crossing  (standing or playing) - masked by parked or statioNot a Pedestrianry vehicle'],\n",
       "      dtype=object)"
      ]
     },
     "execution_count": 311,
     "metadata": {},
     "output_type": "execute_result"
    }
   ],
   "source": [
    "df['Pedestrian_movement'].unique()"
   ]
  },
  {
   "cell_type": "code",
   "execution_count": 312,
   "metadata": {},
   "outputs": [],
   "source": [
    "df_mapping = {\n",
    "    'Not a Pedestrian': 1,\n",
    "    \"Crossing from driver's nearside\": 2,\n",
    "    'Crossing from nearside - masked by parked or statioNot a Pedestrianry vehicle': 3,\n",
    "    'Crossing from offside - masked by  parked or statioNot a Pedestrianry vehicle': 4,\n",
    "    'In carriageway, statioNot a Pedestrianry - not crossing  (standing or playing)': 5,\n",
    "    'Walking along in carriageway, back to traffic': 6,\n",
    "    'Walking along in carriageway, facing traffic': 7,\n",
    "    'Unknown or other': np.nan,\n",
    "    'In carriageway, statioNot a Pedestrianry - not crossing  (standing or playing) - masked by parked or statioNot a Pedestrianry vehicle': 8\n",
    "}\n",
    "df['Pedestrian_movement'] = df['Pedestrian_movement'].map(df_mapping)"
   ]
  }
 ],
 "metadata": {
  "kernelspec": {
   "display_name": "Python 3",
   "language": "python",
   "name": "python3"
  },
  "language_info": {
   "codemirror_mode": {
    "name": "ipython",
    "version": 3
   },
   "file_extension": ".py",
   "mimetype": "text/x-python",
   "name": "python",
   "nbconvert_exporter": "python",
   "pygments_lexer": "ipython3",
   "version": "3.11.9"
  }
 },
 "nbformat": 4,
 "nbformat_minor": 2
}
